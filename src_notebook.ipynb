{
 "cells": [
  {
   "cell_type": "code",
   "execution_count": 43,
   "metadata": {},
   "outputs": [
    {
     "name": "stdout",
     "output_type": "stream",
     "text": [
      "Populating the interactive namespace from numpy and matplotlib\n"
     ]
    }
   ],
   "source": [
    "from pandas import Series, DataFrame\n",
    "import pandas as pd\n",
    "from patsy import dmatrices\n",
    "%pylab inline"
   ]
  },
  {
   "cell_type": "code",
   "execution_count": 45,
   "metadata": {
    "scrolled": true
   },
   "outputs": [
    {
     "name": "stdout",
     "output_type": "stream",
     "text": [
      "9663\n"
     ]
    },
    {
     "data": {
      "text/plain": [
       "array(['host_is_superhost', 'host_verifications', 'host_has_profile_pic',\n",
       "       'host_identity_verified', 'zipcode', 'is_location_exact',\n",
       "       'room_type', 'accommodates', 'bathrooms', 'bedrooms', 'beds',\n",
       "       'amenities', 'price', 'security_deposit', 'number_of_reviews',\n",
       "       'review_scores_rating', 'instant_bookable', 'cancellation_policy'],\n",
       "      dtype=object)"
      ]
     },
     "execution_count": 45,
     "metadata": {},
     "output_type": "execute_result"
    }
   ],
   "source": [
    "#read in data set\n",
    "df = pd.read_csv('Dataset/listings.csv')\n",
    "# pick up all the potential useful col - integer + sequential list + dates and other useful cols\n",
    "df = df[[\"host_is_superhost\",\"host_verifications\",\"host_has_profile_pic\",\"host_identity_verified\",\"zipcode\",\n",
    "         \"is_location_exact\",\"room_type\",\"accommodates\",\"bathrooms\",\"bedrooms\",\"beds\",\"amenities\",\"price\",\n",
    "         \"security_deposit\",\n",
    "         \"number_of_reviews\",\"review_scores_rating\",\"instant_bookable\",\"cancellation_policy\"]]\n",
    "print (len(df))\n",
    "# room_type - dummy cancellation_policy\n",
    "# NA - square_feet\tweekly_price\tmonthly_price\tsecurity_deposit\tcleaning_fee review_scores_rating\n",
    "df.columns.values"
   ]
  },
  {
   "cell_type": "code",
   "execution_count": 46,
   "metadata": {},
   "outputs": [
    {
     "name": "stderr",
     "output_type": "stream",
     "text": [
      "No handles with labels found to put in legend.\n"
     ]
    },
    {
     "data": {
      "image/png": "[encoded data removed]",
      "text/plain": [
       "<Figure size 432x288 with 1 Axes>"
      ]
     },
     "metadata": {
      "needs_background": "light"
     },
     "output_type": "display_data"
    },
    {
     "data": {
      "text/html": [
       "<div>\n",
       "<style scoped>\n",
       "    .dataframe tbody tr th:only-of-type {\n",
       "        vertical-align: middle;\n",
       "    }\n",
       "\n",
       "    .dataframe tbody tr th {\n",
       "        vertical-align: top;\n",
       "    }\n",
       "\n",
       "    .dataframe thead th {\n",
       "        text-align: right;\n",
       "    }\n",
       "</style>\n",
       "<table border=\"1\" class=\"dataframe\">\n",
       "  <thead>\n",
       "    <tr style=\"text-align: right;\">\n",
       "      <th></th>\n",
       "      <th>0</th>\n",
       "      <th>1</th>\n",
       "    </tr>\n",
       "  </thead>\n",
       "  <tbody>\n",
       "    <tr>\n",
       "      <td>7</td>\n",
       "      <td>Air conditioning</td>\n",
       "      <td>0.954569</td>\n",
       "    </tr>\n",
       "    <tr>\n",
       "      <td>6</td>\n",
       "      <td>Heating</td>\n",
       "      <td>0.934803</td>\n",
       "    </tr>\n",
       "    <tr>\n",
       "      <td>5</td>\n",
       "      <td>Kitchen</td>\n",
       "      <td>0.929732</td>\n",
       "    </tr>\n",
       "    <tr>\n",
       "      <td>4</td>\n",
       "      <td>Wireless Internet</td>\n",
       "      <td>0.879644</td>\n",
       "    </tr>\n",
       "    <tr>\n",
       "      <td>3</td>\n",
       "      <td>Free parking on premises</td>\n",
       "      <td>0.872607</td>\n",
       "    </tr>\n",
       "    <tr>\n",
       "      <td>2</td>\n",
       "      <td>Smoke detector</td>\n",
       "      <td>0.823554</td>\n",
       "    </tr>\n",
       "    <tr>\n",
       "      <td>1</td>\n",
       "      <td>Washer</td>\n",
       "      <td>0.798924</td>\n",
       "    </tr>\n",
       "    <tr>\n",
       "      <td>0</td>\n",
       "      <td>Essentials</td>\n",
       "      <td>0.777088</td>\n",
       "    </tr>\n",
       "  </tbody>\n",
       "</table>\n",
       "</div>"
      ],
      "text/plain": [
       "                          0         1\n",
       "7          Air conditioning  0.954569\n",
       "6                   Heating  0.934803\n",
       "5                   Kitchen  0.929732\n",
       "4         Wireless Internet  0.879644\n",
       "3  Free parking on premises  0.872607\n",
       "2            Smoke detector  0.823554\n",
       "1                    Washer  0.798924\n",
       "0                Essentials  0.777088"
      ]
     },
     "execution_count": 46,
     "metadata": {},
     "output_type": "execute_result"
    }
   ],
   "source": [
    "# Explore what's the most important items in amenities\n",
    "list1 = []\n",
    "st = \"\"\n",
    "for i in df[\"amenities\"]:\n",
    "    for j in i:\n",
    "        st += j\n",
    "\n",
    "special_char = '}{\"\"'\n",
    "st2 = ''\n",
    "for char in special_char:\n",
    "    st2 = st.replace(char,'')\n",
    "\n",
    "st2 = st2.replace(\"{\",\"\")\n",
    "l2 = st2.split(\",\")\n",
    "dict1 = {}\n",
    "for i in l2:\n",
    "    if i not in dict1:\n",
    "        dict1[i] = 1\n",
    "    else:\n",
    "        value = dict1.get(i)\n",
    "        dict1[i] = value + 1\n",
    "# sort dirct1\n",
    "sorted_d = sorted(dict1.items(), key=lambda x: x[1])\n",
    "\n",
    "# most important key words:\n",
    "l4 = [('Essentials', 1.0*7509/9663), ('Washer', 1.0*7720/9663), ('Smoke detector', 1.0*7958/9663), ('Free parking on premises', 1.0*8432/9663), ('Wireless Internet', 1.0*8500/9663), ('Kitchen', 1.0*8984/9663), ('Heating', 1.0*9033/9663), ('Air conditioning', 1.0*9224/9663)]\n",
    "\n",
    "df3 = pd.DataFrame(l4)\n",
    "df3 = df3.sort_values(by = 1, ascending = False)\n",
    "\n",
    "import matplotlib.pyplot as plt\n",
    "import seaborn as sns\n",
    "%matplotlib inline\n",
    "# Creating a bar plot\n",
    "sns.barplot(x=df3[1], y=df3[0])\n",
    "plt.xlim(0., 1.0)\n",
    "# Add labels to your graph\n",
    "plt.xlabel('Percentage')\n",
    "plt.ylabel('Amenities')\n",
    "plt.title(\"Amenities Frequency Chart\")\n",
    "plt.legend()\n",
    "plt.show()\n",
    "\n",
    "df3"
   ]
  },
  {
   "cell_type": "markdown",
   "metadata": {},
   "source": [
    "# Clean data"
   ]
  },
  {
   "cell_type": "code",
   "execution_count": 47,
   "metadata": {},
   "outputs": [],
   "source": [
    "# convert t(True) = 1; f(False) = 0;\n",
    "df[\"host_is_superhost\"] = df[\"host_is_superhost\"].replace('f',0).replace('t',1)\n",
    "df[\"host_has_profile_pic\"] = df[\"host_has_profile_pic\"].replace('f',0).replace('t',1)\n",
    "df[\"host_identity_verified\"] = df[\"host_identity_verified\"].replace('f',0).replace('t',1)\n",
    "df[\"is_location_exact\"] = df[\"is_location_exact\"].replace('f',0).replace('t',1)\n",
    "df[\"instant_bookable\"] = df[\"instant_bookable\"].replace('f',0).replace('t',1)\n",
    "\n",
    "# Run the code only once\n",
    "# Read how many elements inside the host_verifications ex['email', 'phone', 'reviews'] = 3\n",
    "def count_len(st):\n",
    "    list1 = st.split(',')\n",
    "    return len(list1)\n",
    "df[\"host_verifications\"] = df[\"host_verifications\"].map(count_len)\n",
    "df[\"host_verifications\"][:5]\n",
    "\n",
    "# Run the code only once\n",
    "# apply the same func to amenities {\"Cable TV\",\"Wireless Internet\",\"Air conditioning\"} - did not really work well if we directly count the \n",
    "# number of amenities. Therefore, for the second try, we decided to count several key words:\n",
    "# TV Internet Air-conditioning Parking \n",
    "keylist = ['Essentials','Washer','Smoke detector','Free parking on premises','Wireless Internet','Kitchen','Heating','Air conditioning']\n",
    "count_list = []\n",
    "for i in df[\"amenities\"]:\n",
    "    count = 1\n",
    "    for j in keylist:\n",
    "        if j in i:\n",
    "            count += 1\n",
    "    count_list.append(count)\n",
    "count_df =  pd.Series(count_list).astype(int)\n",
    "\n",
    "df['amenities'] = count_df\n",
    "df[\"amenities\"][:5]\n",
    "\n",
    "# Run this code only once\n",
    "# There are 3 types of room_type: ['Entire home/apt', 'Shared room', 'Private room'], we give them [3,1,2]\n",
    "def rate_room(room):\n",
    "    if room == \"Entire home/apt\":\n",
    "        return 3\n",
    "    elif room == \"Shared room\":\n",
    "        return 1\n",
    "    elif room == \"Private room\":\n",
    "        return 2\n",
    "\n",
    "df[\"room_type\"] = df[\"room_type\"].map(rate_room)\n",
    "df[\"room_type\"] [:10]\n",
    "\n",
    "# remove $ and other special char, run this code only once\n",
    "def no_special_char(st):\n",
    "    special_cha = '$'\n",
    "    for i in special_cha:\n",
    "        if i in st:\n",
    "            return st.replace(i,'0')\n",
    "def no_comma(st):\n",
    "        return  st.replace(',', '')\n",
    "def no_dot(st):\n",
    "        return  st.replace('.00', '')\n",
    "def to_int(st):\n",
    "        return int(st)\n",
    "\n",
    "#df[\"cleaning_fee\"].fillna(value=pd.np.nan, inplace=True)\n",
    "# fill na\n",
    "df[\"security_deposit\"] = df[\"security_deposit\"].fillna('0')\n",
    "df[\"bedrooms\"] = df[\"bedrooms\"].fillna('0')\n",
    "df[\"bathrooms\"] = df[\"bathrooms\"].fillna('0')\n",
    "df[\"zipcode\"] = df[\"zipcode\"].fillna('0')\n",
    "df.zipcode = df.zipcode.astype(int)\n",
    "df.bedrooms = df.bedrooms.astype(int)\n",
    "df.bathrooms = df.bathrooms.astype(int)\n",
    "\n",
    "df[\"price\"] = df[\"price\"].map(no_special_char)\n",
    "df[\"price\"] = df[\"price\"].map(no_comma)\n",
    "df[\"price\"] = df[\"price\"].map(no_dot)\n",
    "df[\"price\"] = df[\"price\"].map(to_int)\n",
    "\n",
    "# cancelation col:['strict', 'moderate', 'flexible', 'super_strict_30','super_strict_60'] [3,2,1,4,4]\n",
    "def cancel_type(type):\n",
    "    if type == \"strict\":\n",
    "        return 3\n",
    "    elif type == \"moderate\":\n",
    "        return 2\n",
    "    elif type == \"flexible\":\n",
    "        return 1\n",
    "    else:\n",
    "        return 4\n",
    "    \n",
    "df[\"cancellation_policy\"] = df[\"cancellation_policy\"].map(cancel_type)"
   ]
  },
  {
   "cell_type": "markdown",
   "metadata": {},
   "source": [
    "# Exploratory Analysis"
   ]
  },
  {
   "cell_type": "code",
   "execution_count": 48,
   "metadata": {},
   "outputs": [
    {
     "data": {
      "text/html": [
       "<div>\n",
       "<style scoped>\n",
       "    .dataframe tbody tr th:only-of-type {\n",
       "        vertical-align: middle;\n",
       "    }\n",
       "\n",
       "    .dataframe tbody tr th {\n",
       "        vertical-align: top;\n",
       "    }\n",
       "\n",
       "    .dataframe thead th {\n",
       "        text-align: right;\n",
       "    }\n",
       "</style>\n",
       "<table border=\"1\" class=\"dataframe\">\n",
       "  <thead>\n",
       "    <tr style=\"text-align: right;\">\n",
       "      <th></th>\n",
       "      <th>host_is_superhost</th>\n",
       "      <th>host_verifications</th>\n",
       "      <th>host_has_profile_pic</th>\n",
       "      <th>host_identity_verified</th>\n",
       "      <th>zipcode</th>\n",
       "      <th>is_location_exact</th>\n",
       "      <th>room_type</th>\n",
       "      <th>accommodates</th>\n",
       "      <th>bathrooms</th>\n",
       "      <th>bedrooms</th>\n",
       "      <th>beds</th>\n",
       "      <th>amenities</th>\n",
       "      <th>price</th>\n",
       "      <th>security_deposit</th>\n",
       "      <th>number_of_reviews</th>\n",
       "      <th>review_scores_rating</th>\n",
       "      <th>instant_bookable</th>\n",
       "      <th>cancellation_policy</th>\n",
       "    </tr>\n",
       "  </thead>\n",
       "  <tbody>\n",
       "    <tr>\n",
       "      <td>0</td>\n",
       "      <td>0.0</td>\n",
       "      <td>3</td>\n",
       "      <td>1.0</td>\n",
       "      <td>0.0</td>\n",
       "      <td>78756</td>\n",
       "      <td>1</td>\n",
       "      <td>3</td>\n",
       "      <td>5</td>\n",
       "      <td>2</td>\n",
       "      <td>3</td>\n",
       "      <td>4.0</td>\n",
       "      <td>8</td>\n",
       "      <td>130</td>\n",
       "      <td>400</td>\n",
       "      <td>3</td>\n",
       "      <td>100.0</td>\n",
       "      <td>0</td>\n",
       "      <td>3</td>\n",
       "    </tr>\n",
       "    <tr>\n",
       "      <td>1</td>\n",
       "      <td>0.0</td>\n",
       "      <td>4</td>\n",
       "      <td>1.0</td>\n",
       "      <td>0.0</td>\n",
       "      <td>78756</td>\n",
       "      <td>1</td>\n",
       "      <td>3</td>\n",
       "      <td>7</td>\n",
       "      <td>2</td>\n",
       "      <td>3</td>\n",
       "      <td>5.0</td>\n",
       "      <td>7</td>\n",
       "      <td>500</td>\n",
       "      <td>500</td>\n",
       "      <td>2</td>\n",
       "      <td>99.0</td>\n",
       "      <td>0</td>\n",
       "      <td>3</td>\n",
       "    </tr>\n",
       "    <tr>\n",
       "      <td>2</td>\n",
       "      <td>0.0</td>\n",
       "      <td>3</td>\n",
       "      <td>1.0</td>\n",
       "      <td>0.0</td>\n",
       "      <td>78756</td>\n",
       "      <td>1</td>\n",
       "      <td>3</td>\n",
       "      <td>4</td>\n",
       "      <td>1</td>\n",
       "      <td>1</td>\n",
       "      <td>2.0</td>\n",
       "      <td>9</td>\n",
       "      <td>195</td>\n",
       "      <td>150</td>\n",
       "      <td>7</td>\n",
       "      <td>100.0</td>\n",
       "      <td>0</td>\n",
       "      <td>2</td>\n",
       "    </tr>\n",
       "    <tr>\n",
       "      <td>3</td>\n",
       "      <td>0.0</td>\n",
       "      <td>4</td>\n",
       "      <td>1.0</td>\n",
       "      <td>1.0</td>\n",
       "      <td>78756</td>\n",
       "      <td>1</td>\n",
       "      <td>3</td>\n",
       "      <td>12</td>\n",
       "      <td>3</td>\n",
       "      <td>4</td>\n",
       "      <td>5.0</td>\n",
       "      <td>9</td>\n",
       "      <td>300</td>\n",
       "      <td>150</td>\n",
       "      <td>3</td>\n",
       "      <td>93.0</td>\n",
       "      <td>0</td>\n",
       "      <td>3</td>\n",
       "    </tr>\n",
       "    <tr>\n",
       "      <td>4</td>\n",
       "      <td>1.0</td>\n",
       "      <td>3</td>\n",
       "      <td>1.0</td>\n",
       "      <td>0.0</td>\n",
       "      <td>78757</td>\n",
       "      <td>1</td>\n",
       "      <td>3</td>\n",
       "      <td>2</td>\n",
       "      <td>1</td>\n",
       "      <td>1</td>\n",
       "      <td>1.0</td>\n",
       "      <td>7</td>\n",
       "      <td>105</td>\n",
       "      <td>100</td>\n",
       "      <td>122</td>\n",
       "      <td>98.0</td>\n",
       "      <td>0</td>\n",
       "      <td>2</td>\n",
       "    </tr>\n",
       "    <tr>\n",
       "      <td>5</td>\n",
       "      <td>0.0</td>\n",
       "      <td>3</td>\n",
       "      <td>1.0</td>\n",
       "      <td>0.0</td>\n",
       "      <td>78757</td>\n",
       "      <td>1</td>\n",
       "      <td>1</td>\n",
       "      <td>1</td>\n",
       "      <td>1</td>\n",
       "      <td>1</td>\n",
       "      <td>1.0</td>\n",
       "      <td>6</td>\n",
       "      <td>150</td>\n",
       "      <td>0</td>\n",
       "      <td>0</td>\n",
       "      <td>NaN</td>\n",
       "      <td>1</td>\n",
       "      <td>2</td>\n",
       "    </tr>\n",
       "    <tr>\n",
       "      <td>6</td>\n",
       "      <td>0.0</td>\n",
       "      <td>4</td>\n",
       "      <td>1.0</td>\n",
       "      <td>0.0</td>\n",
       "      <td>78751</td>\n",
       "      <td>1</td>\n",
       "      <td>3</td>\n",
       "      <td>1</td>\n",
       "      <td>1</td>\n",
       "      <td>1</td>\n",
       "      <td>1.0</td>\n",
       "      <td>8</td>\n",
       "      <td>80</td>\n",
       "      <td>500</td>\n",
       "      <td>0</td>\n",
       "      <td>NaN</td>\n",
       "      <td>1</td>\n",
       "      <td>1</td>\n",
       "    </tr>\n",
       "    <tr>\n",
       "      <td>7</td>\n",
       "      <td>1.0</td>\n",
       "      <td>5</td>\n",
       "      <td>1.0</td>\n",
       "      <td>1.0</td>\n",
       "      <td>78756</td>\n",
       "      <td>1</td>\n",
       "      <td>3</td>\n",
       "      <td>2</td>\n",
       "      <td>1</td>\n",
       "      <td>0</td>\n",
       "      <td>1.0</td>\n",
       "      <td>8</td>\n",
       "      <td>85</td>\n",
       "      <td>0</td>\n",
       "      <td>62</td>\n",
       "      <td>96.0</td>\n",
       "      <td>1</td>\n",
       "      <td>2</td>\n",
       "    </tr>\n",
       "    <tr>\n",
       "      <td>8</td>\n",
       "      <td>0.0</td>\n",
       "      <td>4</td>\n",
       "      <td>1.0</td>\n",
       "      <td>0.0</td>\n",
       "      <td>78751</td>\n",
       "      <td>1</td>\n",
       "      <td>3</td>\n",
       "      <td>2</td>\n",
       "      <td>1</td>\n",
       "      <td>0</td>\n",
       "      <td>1.0</td>\n",
       "      <td>8</td>\n",
       "      <td>90</td>\n",
       "      <td>500</td>\n",
       "      <td>0</td>\n",
       "      <td>NaN</td>\n",
       "      <td>1</td>\n",
       "      <td>1</td>\n",
       "    </tr>\n",
       "    <tr>\n",
       "      <td>9</td>\n",
       "      <td>1.0</td>\n",
       "      <td>3</td>\n",
       "      <td>1.0</td>\n",
       "      <td>0.0</td>\n",
       "      <td>78756</td>\n",
       "      <td>1</td>\n",
       "      <td>3</td>\n",
       "      <td>4</td>\n",
       "      <td>1</td>\n",
       "      <td>1</td>\n",
       "      <td>2.0</td>\n",
       "      <td>8</td>\n",
       "      <td>115</td>\n",
       "      <td>500</td>\n",
       "      <td>77</td>\n",
       "      <td>99.0</td>\n",
       "      <td>0</td>\n",
       "      <td>2</td>\n",
       "    </tr>\n",
       "  </tbody>\n",
       "</table>\n",
       "</div>"
      ],
      "text/plain": [
       "   host_is_superhost  host_verifications  host_has_profile_pic  \\\n",
       "0                0.0                   3                   1.0   \n",
       "1                0.0                   4                   1.0   \n",
       "2                0.0                   3                   1.0   \n",
       "3                0.0                   4                   1.0   \n",
       "4                1.0                   3                   1.0   \n",
       "5                0.0                   3                   1.0   \n",
       "6                0.0                   4                   1.0   \n",
       "7                1.0                   5                   1.0   \n",
       "8                0.0                   4                   1.0   \n",
       "9                1.0                   3                   1.0   \n",
       "\n",
       "   host_identity_verified  zipcode  is_location_exact  room_type  \\\n",
       "0                     0.0    78756                  1          3   \n",
       "1                     0.0    78756                  1          3   \n",
       "2                     0.0    78756                  1          3   \n",
       "3                     1.0    78756                  1          3   \n",
       "4                     0.0    78757                  1          3   \n",
       "5                     0.0    78757                  1          1   \n",
       "6                     0.0    78751                  1          3   \n",
       "7                     1.0    78756                  1          3   \n",
       "8                     0.0    78751                  1          3   \n",
       "9                     0.0    78756                  1          3   \n",
       "\n",
       "   accommodates  bathrooms  bedrooms  beds  amenities  price security_deposit  \\\n",
       "0             5          2         3   4.0          8    130              400   \n",
       "1             7          2         3   5.0          7    500              500   \n",
       "2             4          1         1   2.0          9    195              150   \n",
       "3            12          3         4   5.0          9    300              150   \n",
       "4             2          1         1   1.0          7    105              100   \n",
       "5             1          1         1   1.0          6    150                0   \n",
       "6             1          1         1   1.0          8     80              500   \n",
       "7             2          1         0   1.0          8     85                0   \n",
       "8             2          1         0   1.0          8     90              500   \n",
       "9             4          1         1   2.0          8    115              500   \n",
       "\n",
       "   number_of_reviews  review_scores_rating  instant_bookable  \\\n",
       "0                  3                 100.0                 0   \n",
       "1                  2                  99.0                 0   \n",
       "2                  7                 100.0                 0   \n",
       "3                  3                  93.0                 0   \n",
       "4                122                  98.0                 0   \n",
       "5                  0                   NaN                 1   \n",
       "6                  0                   NaN                 1   \n",
       "7                 62                  96.0                 1   \n",
       "8                  0                   NaN                 1   \n",
       "9                 77                  99.0                 0   \n",
       "\n",
       "   cancellation_policy  \n",
       "0                    3  \n",
       "1                    3  \n",
       "2                    2  \n",
       "3                    3  \n",
       "4                    2  \n",
       "5                    2  \n",
       "6                    1  \n",
       "7                    2  \n",
       "8                    1  \n",
       "9                    2  "
      ]
     },
     "execution_count": 48,
     "metadata": {},
     "output_type": "execute_result"
    }
   ],
   "source": [
    "df[:10]"
   ]
  },
  {
   "cell_type": "markdown",
   "metadata": {},
   "source": [
    "Pricing for all Airbnb listings"
   ]
  },
  {
   "cell_type": "code",
   "execution_count": 49,
   "metadata": {},
   "outputs": [
    {
     "data": {
      "text/plain": [
       "Text(0, 0.5, 'Price')"
      ]
     },
     "execution_count": 49,
     "metadata": {},
     "output_type": "execute_result"
    },
    {
     "data": {
      "image/png": "[encoded data removed]",
      "text/plain": [
       "<Figure size 432x288 with 1 Axes>"
      ]
     },
     "metadata": {
      "needs_background": "light"
     },
     "output_type": "display_data"
    }
   ],
   "source": [
    "plot(df.index,df['price'],marker ='o', color='blue',linestyle='None')\n",
    "title('Price Distribution')\n",
    "xlabel('Listings')\n",
    "ylabel('Price')"
   ]
  },
  {
   "cell_type": "code",
   "execution_count": null,
   "metadata": {},
   "outputs": [],
   "source": []
  },
  {
   "cell_type": "markdown",
   "metadata": {},
   "source": [
    "-Lower pricing, More reviews"
   ]
  },
  {
   "cell_type": "code",
   "execution_count": 50,
   "metadata": {},
   "outputs": [
    {
     "data": {
      "text/plain": [
       "Text(0.5, 0, 'Counts')"
      ]
     },
     "execution_count": 50,
     "metadata": {},
     "output_type": "execute_result"
    },
    {
     "data": {
      "image/png": "[encoded data removed]",
      "text/plain": [
       "<Figure size 432x288 with 1 Axes>"
      ]
     },
     "metadata": {
      "needs_background": "light"
     },
     "output_type": "display_data"
    }
   ],
   "source": [
    "\n",
    "df_1 = df.copy()\n",
    "\n",
    "df_1['price_bin'] = pd.qcut(df_1['price'], [0.0, .71, .85, 1.])\n",
    "#df_1['price_bin'] = pd.qcut\n",
    "df_1.groupby(['price_bin'])['number_of_reviews'].agg(['count']).plot.barh()\n",
    "title('Price Range vs Counts')\n",
    "ylabel('Price Range')\n",
    "xlabel('Counts')"
   ]
  },
  {
   "cell_type": "markdown",
   "metadata": {},
   "source": [
    "Most of the Super Host has lower price house"
   ]
  },
  {
   "cell_type": "code",
   "execution_count": 51,
   "metadata": {},
   "outputs": [
    {
     "data": {
      "text/html": [
       "<div>\n",
       "<style scoped>\n",
       "    .dataframe tbody tr th:only-of-type {\n",
       "        vertical-align: middle;\n",
       "    }\n",
       "\n",
       "    .dataframe tbody tr th {\n",
       "        vertical-align: top;\n",
       "    }\n",
       "\n",
       "    .dataframe thead th {\n",
       "        text-align: right;\n",
       "    }\n",
       "</style>\n",
       "<table border=\"1\" class=\"dataframe\">\n",
       "  <thead>\n",
       "    <tr style=\"text-align: right;\">\n",
       "      <th></th>\n",
       "      <th>count</th>\n",
       "    </tr>\n",
       "    <tr>\n",
       "      <th>price_bin</th>\n",
       "      <th></th>\n",
       "    </tr>\n",
       "  </thead>\n",
       "  <tbody>\n",
       "    <tr>\n",
       "      <td>(-0.001, 300.0]</td>\n",
       "      <td>1492</td>\n",
       "    </tr>\n",
       "    <tr>\n",
       "      <td>(300.0, 500.0]</td>\n",
       "      <td>122</td>\n",
       "    </tr>\n",
       "    <tr>\n",
       "      <td>(500.0, 10000.0]</td>\n",
       "      <td>126</td>\n",
       "    </tr>\n",
       "  </tbody>\n",
       "</table>\n",
       "</div>"
      ],
      "text/plain": [
       "                  count\n",
       "price_bin              \n",
       "(-0.001, 300.0]    1492\n",
       "(300.0, 500.0]      122\n",
       "(500.0, 10000.0]    126"
      ]
     },
     "execution_count": 51,
     "metadata": {},
     "output_type": "execute_result"
    },
    {
     "data": {
      "image/png": "[encoded data removed]",
      "text/plain": [
       "<Figure size 432x288 with 1 Axes>"
      ]
     },
     "metadata": {
      "needs_background": "light"
     },
     "output_type": "display_data"
    }
   ],
   "source": [
    "mask = df_1['host_is_superhost'] == 1\n",
    "\n",
    "df_1[mask].groupby(['price_bin'])['price'].agg(['count']).plot.barh()\n",
    "title('Price vs SuperHost')\n",
    "ylabel('Price Range')\n",
    "xlabel('SuperHost')\n",
    "\n",
    "df_1[mask].groupby(['price_bin'])['price'].agg(['count'])"
   ]
  },
  {
   "cell_type": "code",
   "execution_count": 52,
   "metadata": {
    "scrolled": true
   },
   "outputs": [
    {
     "data": {
      "text/plain": [
       "9    5306\n",
       "8    2350\n",
       "7    1187\n",
       "6     415\n",
       "1     197\n",
       "5     137\n",
       "4      39\n",
       "3      22\n",
       "2      10\n",
       "Name: amenities, dtype: int64"
      ]
     },
     "execution_count": 52,
     "metadata": {},
     "output_type": "execute_result"
    },
    {
     "data": {
      "image/png": "[encoded data removed]",
      "text/plain": [
       "<Figure size 432x288 with 1 Axes>"
      ]
     },
     "metadata": {
      "needs_background": "light"
     },
     "output_type": "display_data"
    }
   ],
   "source": [
    "mask = df_1['amenities'] >= 3\n",
    "\n",
    "df_1['amenities'].value_counts().plot(kind='bar',rot=0)\n",
    "title('SuperHost vs Amenities')\n",
    "ylabel('SuperHost')\n",
    "xlabel('Amenities')\n",
    "\n",
    "df_1['amenities'].value_counts()"
   ]
  },
  {
   "cell_type": "markdown",
   "metadata": {},
   "source": [
    "The relationship between is superhost vs Number of Reviews "
   ]
  },
  {
   "cell_type": "markdown",
   "metadata": {},
   "source": [
    "the higher price,the better review score\n",
    "- in high price houses, guests and hosts tend to respect to each other\n",
    "- Therefore, the high price hosts usually have higher review score."
   ]
  },
  {
   "cell_type": "code",
   "execution_count": 53,
   "metadata": {},
   "outputs": [
    {
     "data": {
      "text/plain": [
       "Text(0.5, 0, 'Price Category')"
      ]
     },
     "execution_count": 53,
     "metadata": {},
     "output_type": "execute_result"
    },
    {
     "data": {
      "image/png": "[encoded data removed]",
      "text/plain": [
       "<Figure size 432x288 with 1 Axes>"
      ]
     },
     "metadata": {
      "needs_background": "light"
     },
     "output_type": "display_data"
    }
   ],
   "source": [
    "df_1['review_score_bin'] = pd.cut(df_1['review_scores_rating'], [0,99,100])\n",
    "df_price_review = df_1.groupby(['price_bin','review_score_bin'])['review_scores_rating'].agg(['count'])\n",
    "\n",
    "percent_review = np.array(['0.568385','0.431615','0.453911','0.546089','0.405253','0.594747'])\n",
    "percentage = pd.Series(percent_review, index =df_price_review.index) \n",
    "#print percentage\n",
    "low_review = [0.568385, 0.453911, 0.405253]\n",
    "high_review = [0.431615, 0.546089, 0.594747]\n",
    "index = ['Low Price Listings', 'Medium Price Listings', 'High Price Listings']\n",
    "df_123 = pd.DataFrame({'High Review Score': high_review,'Low Review Score': low_review}, index=index)\n",
    "ax = df_123.plot.bar(rot=0)\n",
    "\n",
    "title('Price vs Review Score')\n",
    "ylabel('%')\n",
    "xlabel('Price Category')\n",
    "\n"
   ]
  },
  {
   "cell_type": "markdown",
   "metadata": {},
   "source": [
    "Bedroom distribution, private bedroom leads to better review ratings, which ultimately leads to higher price?"
   ]
  },
  {
   "cell_type": "code",
   "execution_count": 54,
   "metadata": {},
   "outputs": [
    {
     "data": {
      "text/plain": [
       "Text(0.5, 0, 'Number of bedroom')"
      ]
     },
     "execution_count": 54,
     "metadata": {},
     "output_type": "execute_result"
    },
    {
     "data": {
      "image/png": "[encoded data removed]",
      "text/plain": [
       "<Figure size 432x288 with 1 Axes>"
      ]
     },
     "metadata": {
      "needs_background": "light"
     },
     "output_type": "display_data"
    }
   ],
   "source": [
    "df_1['bedrooms'].value_counts().sort_index().plot(kind=\"bar\")\n",
    "ylabel('Count')\n",
    "xlabel('Number of bedroom')"
   ]
  },
  {
   "cell_type": "code",
   "execution_count": 55,
   "metadata": {},
   "outputs": [
    {
     "data": {
      "text/plain": [
       "Text(0, 0.5, 'Review Score')"
      ]
     },
     "execution_count": 55,
     "metadata": {},
     "output_type": "execute_result"
    },
    {
     "data": {
      "image/png": "[encoded data removed]",
      "text/plain": [
       "<Figure size 432x288 with 1 Axes>"
      ]
     },
     "metadata": {
      "needs_background": "light"
     },
     "output_type": "display_data"
    },
    {
     "data": {
      "image/png": "[encoded data removed]",
      "text/plain": [
       "<Figure size 432x288 with 1 Axes>"
      ]
     },
     "metadata": {
      "needs_background": "light"
     },
     "output_type": "display_data"
    }
   ],
   "source": [
    "bed_review = df_1.groupby(['bedrooms'])['review_scores_rating'].agg(['mean']).plot(kind = 'bar',rot=0).set_ylim(95,100)\n",
    "xlabel('Number of bedroom')\n",
    "ylabel('Review Score')\n",
    "bath_review = df_1.groupby(['bathrooms'])['review_scores_rating'].agg(['mean']).plot(kind = 'bar',rot=0).set_ylim(95,100)\n",
    "xlabel('Number of bathroom')\n",
    "ylabel('Review Score')"
   ]
  },
  {
   "cell_type": "markdown",
   "metadata": {},
   "source": [
    "Cancelation Policy andd price    "
   ]
  },
  {
   "cell_type": "markdown",
   "metadata": {},
   "source": [
    "# Logistic Regression"
   ]
  },
  {
   "cell_type": "code",
   "execution_count": 56,
   "metadata": {},
   "outputs": [],
   "source": [
    "# we split the price \n",
    "df.price.quantile(0.75)\n",
    "\n",
    "formula = 'target ~ 0 +host_is_superhost + host_verifications + host_has_profile_pic + host_identity_verified ' + \\\n",
    "           '+ is_location_exact + accommodates + bathrooms + bedrooms + beds' + \\\n",
    "          '+amenities'+ \\\n",
    "        '+number_of_reviews + review_scores_rating + instant_bookable + C(cancellation_policy)'      \n",
    "        \n",
    "# price not included C(room_type)\n",
    "df['target'] = 0.0\n",
    "df['target'][df['price'] >= 300] = 1.0 # if >= 300, high price\n",
    "df['target'].value_counts()\n",
    "\n",
    "Y, X = dmatrices(formula, df, return_type='dataframe')\n",
    "y = Y['target'].values\n",
    "\n",
    "from sklearn.model_selection import train_test_split\n",
    "X_train, X_test, y_train, y_test = train_test_split(X, y, test_size=0.3, random_state=1)\n",
    "\n",
    "# Fit the classifier\n",
    "from sklearn.linear_model import LogisticRegression\n",
    "model = LogisticRegression()\n",
    "result = model.fit(X_train, y_train)"
   ]
  },
  {
   "cell_type": "code",
   "execution_count": 57,
   "metadata": {},
   "outputs": [
    {
     "name": "stdout",
     "output_type": "stream",
     "text": [
      "0.8734359961501443\n"
     ]
    }
   ],
   "source": [
    "from sklearn import metrics\n",
    "#train accuracy\n",
    "prediction_train = model.predict(X_train)\n",
    "print (metrics.accuracy_score(y_train, prediction_train))"
   ]
  },
  {
   "cell_type": "code",
   "execution_count": 58,
   "metadata": {},
   "outputs": [
    {
     "name": "stdout",
     "output_type": "stream",
     "text": [
      "0.8742985409652076\n"
     ]
    }
   ],
   "source": [
    "#predict accuracy\n",
    "prediction = model.predict(X_test)\n",
    "print (metrics.accuracy_score(y_test, prediction))"
   ]
  },
  {
   "cell_type": "code",
   "execution_count": 59,
   "metadata": {},
   "outputs": [
    {
     "name": "stdout",
     "output_type": "stream",
     "text": [
      "Number of positive examples = 842\n",
      "Number of negative examples = 3314\n",
      "Number of examples where baseline is correct = 1415\n",
      "Baseline accuracy = 0.7940516273849607\n"
     ]
    }
   ],
   "source": [
    "# y_train is 0 or 1.\n",
    "print ('Number of positive examples =', len(y_train[y_train==1]))\n",
    "print ('Number of negative examples =', len(y_train[y_train==0]))\n",
    "\n",
    "negative_examples_in_test = len(y_test[y_test==0])\n",
    "total_examples_in_test = len(y_test)\n",
    "\n",
    "print ('Number of examples where baseline is correct =', negative_examples_in_test)\n",
    "print ('Baseline accuracy =', negative_examples_in_test * 1.0 / total_examples_in_test)"
   ]
  },
  {
   "cell_type": "code",
   "execution_count": 60,
   "metadata": {},
   "outputs": [
    {
     "data": {
      "text/plain": [
       "array([[-0.61145192, -0.53842068,  0.06522053, -0.67425442, -0.59732564,\n",
       "        -0.06950998, -0.44019432,  0.01366712,  0.53178121,  0.2194082 ,\n",
       "         0.91412739,  0.57770866,  0.06027548, -0.2313256 , -0.02440561,\n",
       "        -0.00743448,  0.05951989]])"
      ]
     },
     "execution_count": 60,
     "metadata": {},
     "output_type": "execute_result"
    }
   ],
   "source": [
    "model.coef_"
   ]
  },
  {
   "cell_type": "code",
   "execution_count": 61,
   "metadata": {},
   "outputs": [
    {
     "data": {
      "text/plain": [
       "array([-1.75890648])"
      ]
     },
     "execution_count": 61,
     "metadata": {},
     "output_type": "execute_result"
    }
   ],
   "source": [
    "model.intercept_"
   ]
  },
  {
   "cell_type": "code",
   "execution_count": 62,
   "metadata": {
    "scrolled": true
   },
   "outputs": [
    {
     "name": "stderr",
     "output_type": "stream",
     "text": [
      "No handles with labels found to put in legend.\n"
     ]
    },
    {
     "data": {
      "image/png": "[encoded data removed]",
      "text/plain": [
       "<Figure size 432x288 with 1 Axes>"
      ]
     },
     "metadata": {
      "needs_background": "light"
     },
     "output_type": "display_data"
    },
    {
     "data": {
      "text/plain": [
       "C(cancellation_policy)[4]   -0.674254\n",
       "C(cancellation_policy)[1]   -0.611452\n",
       "host_is_superhost           -0.597326\n",
       "C(cancellation_policy)[2]   -0.538421\n",
       "host_has_profile_pic        -0.440194\n",
       "amenities                   -0.231326\n",
       "host_verifications          -0.069510\n",
       "number_of_reviews           -0.024406\n",
       "review_scores_rating        -0.007434\n",
       "host_identity_verified       0.013667\n",
       "instant_bookable             0.059520\n",
       "beds                         0.060275\n",
       "C(cancellation_policy)[3]    0.065221\n",
       "accommodates                 0.219408\n",
       "is_location_exact            0.531781\n",
       "bedrooms                     0.577709\n",
       "bathrooms                    0.914127\n",
       "dtype: float64"
      ]
     },
     "execution_count": 62,
     "metadata": {},
     "output_type": "execute_result"
    }
   ],
   "source": [
    "weights = Series(model.coef_[0],\n",
    "                 index=X.columns.values)\n",
    "\n",
    "\n",
    "import matplotlib.pyplot as plt\n",
    "import seaborn as sns\n",
    "%matplotlib inline\n",
    "# Creating a bar plot\n",
    "sns.barplot(x=weights.sort_values(ascending = True), y=weights.sort_values().index)\n",
    "# Add labels to your graph\n",
    "plt.xlabel('Feature Coef')\n",
    "plt.ylabel('Features')\n",
    "plt.title(\"Visualizing Coef\")\n",
    "plt.legend()\n",
    "plt.show()\n",
    "\n",
    "weights.sort_values()"
   ]
  },
  {
   "cell_type": "markdown",
   "metadata": {},
   "source": [
    "**Observations**\n",
    "\n",
    "*  **room_type** \n",
    "    * 1 = shared\n",
    "    * 2 = private\n",
    "    * 3 = entire\n",
    "* **cancellation_policy** \n",
    "    * ['strict', 'moderate', 'flexible', 'super_strict_30','super_strict_60'] [3,2,1,4,4] \n"
   ]
  },
  {
   "cell_type": "markdown",
   "metadata": {},
   "source": [
    "# Tree Method"
   ]
  },
  {
   "cell_type": "code",
   "execution_count": 63,
   "metadata": {},
   "outputs": [
    {
     "name": "stdout",
     "output_type": "stream",
     "text": [
      "Populating the interactive namespace from numpy and matplotlib\n"
     ]
    }
   ],
   "source": [
    "from pandas import Series, DataFrame\n",
    "import pandas as pd\n",
    "from patsy import dmatrices\n",
    "import warnings\n",
    "from sklearn import tree\n",
    "from sklearn.ensemble import BaggingClassifier\n",
    "from sklearn.ensemble import RandomForestClassifier\n",
    "from sklearn.ensemble import GradientBoostingClassifier\n",
    "\n",
    "%pylab inline\n",
    "warnings.filterwarnings('ignore')"
   ]
  },
  {
   "cell_type": "code",
   "execution_count": 64,
   "metadata": {},
   "outputs": [
    {
     "name": "stdout",
     "output_type": "stream",
     "text": [
      "9663\n"
     ]
    },
    {
     "data": {
      "text/plain": [
       "array(['host_is_superhost', 'host_verifications', 'host_has_profile_pic',\n",
       "       'host_identity_verified', 'zipcode', 'is_location_exact',\n",
       "       'room_type', 'accommodates', 'bathrooms', 'bedrooms', 'beds',\n",
       "       'amenities', 'price', 'security_deposit', 'number_of_reviews',\n",
       "       'review_scores_rating', 'instant_bookable', 'cancellation_policy',\n",
       "       'target'], dtype=object)"
      ]
     },
     "execution_count": 64,
     "metadata": {},
     "output_type": "execute_result"
    }
   ],
   "source": [
    "print (len(df))\n",
    "df.columns.values"
   ]
  },
  {
   "cell_type": "code",
   "execution_count": 65,
   "metadata": {
    "scrolled": true
   },
   "outputs": [
    {
     "data": {
      "text/plain": [
       "Text(0.5, 0, 'Counts')"
      ]
     },
     "execution_count": 65,
     "metadata": {},
     "output_type": "execute_result"
    },
    {
     "data": {
      "image/png": "[encoded data removed]",
      "text/plain": [
       "<Figure size 432x288 with 1 Axes>"
      ]
     },
     "metadata": {
      "needs_background": "light"
     },
     "output_type": "display_data"
    }
   ],
   "source": [
    "\n",
    "df_4 = df.copy()\n",
    "\n",
    "df_4['price_bin'] = pd.qcut(df_4['price'], [0, 0.20, 0.40, 0.60, 0.80,1.0])\n",
    "df_4.groupby(['price_bin'])['number_of_reviews'].agg(['count']).plot.barh()\n",
    "title('Price Range vs Counts')\n",
    "ylabel('Price Range')\n",
    "xlabel('Counts')"
   ]
  },
  {
   "cell_type": "code",
   "execution_count": 66,
   "metadata": {},
   "outputs": [],
   "source": [
    "\n",
    "def cate_price(price):\n",
    "    if price <= 200:\n",
    "        return 1\n",
    "    elif price <= 400:\n",
    "        return 2\n",
    "    else:\n",
    "        return 3\n",
    "    \n",
    "df['price'] = df['price'].map(cate_price)"
   ]
  },
  {
   "cell_type": "code",
   "execution_count": 67,
   "metadata": {},
   "outputs": [
    {
     "data": {
      "text/plain": [
       "0    1\n",
       "1    3\n",
       "2    1\n",
       "3    2\n",
       "4    1\n",
       "Name: price, dtype: int64"
      ]
     },
     "execution_count": 67,
     "metadata": {},
     "output_type": "execute_result"
    }
   ],
   "source": [
    "df['price'] [:5]"
   ]
  },
  {
   "cell_type": "code",
   "execution_count": null,
   "metadata": {},
   "outputs": [],
   "source": []
  },
  {
   "cell_type": "code",
   "execution_count": 68,
   "metadata": {},
   "outputs": [],
   "source": [
    "\n",
    "formula = 'price ~ 0 +host_is_superhost + host_verifications + host_has_profile_pic + host_identity_verified ' + \\\n",
    "           '+ is_location_exact + accommodates + bathrooms + bedrooms + beds' + \\\n",
    "          '+amenities'+ \\\n",
    "        '+number_of_reviews + review_scores_rating + instant_bookable + C(cancellation_policy)'#print formula\n",
    "Y, X = dmatrices(formula, df, return_type='dataframe')\n",
    "y = Y['price'].values\n",
    "from sklearn.model_selection import train_test_split\n",
    "X_train, X_test, y_train, y_test = train_test_split(X, y, test_size=0.3, random_state=1)"
   ]
  },
  {
   "cell_type": "markdown",
   "metadata": {},
   "source": [
    "# Decision Tree Depth"
   ]
  },
  {
   "cell_type": "code",
   "execution_count": 69,
   "metadata": {},
   "outputs": [
    {
     "data": {
      "text/plain": [
       "Text(0.5, 1.0, 'Decision Tree Depth')"
      ]
     },
     "execution_count": 69,
     "metadata": {},
     "output_type": "execute_result"
    },
    {
     "data": {
      "image/png": "[encoded data removed]",
      "text/plain": [
       "<Figure size 432x288 with 1 Axes>"
      ]
     },
     "metadata": {
      "needs_background": "light"
     },
     "output_type": "display_data"
    }
   ],
   "source": [
    "scores_train = {}\n",
    "scores_test = {}\n",
    "for depth in range(1, 11):\n",
    "    model =  tree.DecisionTreeClassifier(criterion='entropy' ,max_depth = depth)\n",
    "    model.fit(X_train, y_train)\n",
    "    \n",
    "    prediction_test = model.predict(X_test)\n",
    "    accuracy_test = metrics.accuracy_score(y_test, prediction_test)\n",
    "    scores_test[depth] = accuracy_test\n",
    "    \n",
    "    prediction_train = model.predict(X_train)\n",
    "    accuracy_train = metrics.accuracy_score(y_train, prediction_train)\n",
    "    scores_train[depth] = accuracy_train\n",
    "    \n",
    "Series(scores_train).sort_index().plot()\n",
    "xlabel('Depth of trees in ensemble')\n",
    "ylabel('Test accuracy')\n",
    "\n",
    "Series(scores_test).sort_index().plot()\n",
    "xlabel('Depth of trees in ensemble')\n",
    "ylabel('Test accuracy')\n",
    "\n",
    "title('Decision Tree Depth')"
   ]
  },
  {
   "cell_type": "markdown",
   "metadata": {},
   "source": [
    "# Bagging Depth"
   ]
  },
  {
   "cell_type": "code",
   "execution_count": 70,
   "metadata": {},
   "outputs": [
    {
     "data": {
      "text/plain": [
       "Text(0.5, 1.0, 'Bagging Depth')"
      ]
     },
     "execution_count": 70,
     "metadata": {},
     "output_type": "execute_result"
    },
    {
     "data": {
      "image/png": "[encoded data removed]",
      "text/plain": [
       "<Figure size 432x288 with 1 Axes>"
      ]
     },
     "metadata": {
      "needs_background": "light"
     },
     "output_type": "display_data"
    }
   ],
   "source": [
    "scores_train = {}\n",
    "scores_test = {}\n",
    "for depth in range(1, 11):\n",
    "    model =  BaggingClassifier(tree.DecisionTreeClassifier(criterion='entropy',max_depth = depth), random_state=1)\n",
    "    model.fit(X_train, y_train)\n",
    "    \n",
    "    prediction_test = model.predict(X_test)\n",
    "    accuracy_test = metrics.accuracy_score(y_test, prediction_test)\n",
    "    scores_test[depth] = accuracy_test\n",
    "    \n",
    "    prediction_train = model.predict(X_train)\n",
    "    accuracy_train = metrics.accuracy_score(y_train, prediction_train)\n",
    "    scores_train[depth] = accuracy_train\n",
    "    \n",
    "Series(scores_train).sort_index().plot()\n",
    "xlabel('Depth of trees in ensemble')\n",
    "ylabel('Test accuracy')\n",
    "\n",
    "Series(scores_test).sort_index().plot()\n",
    "xlabel('Depth of trees in ensemble')\n",
    "ylabel('Test accuracy')\n",
    "\n",
    "title('Bagging Depth')"
   ]
  },
  {
   "cell_type": "markdown",
   "metadata": {},
   "source": [
    "# RF"
   ]
  },
  {
   "cell_type": "code",
   "execution_count": 71,
   "metadata": {},
   "outputs": [
    {
     "data": {
      "text/plain": [
       "Text(0.5, 1.0, 'Random Forest Depth')"
      ]
     },
     "execution_count": 71,
     "metadata": {},
     "output_type": "execute_result"
    },
    {
     "data": {
      "image/png": "[encoded data removed]",
      "text/plain": [
       "<Figure size 432x288 with 1 Axes>"
      ]
     },
     "metadata": {
      "needs_background": "light"
     },
     "output_type": "display_data"
    }
   ],
   "source": [
    "scores_train = {}\n",
    "scores_test = {}\n",
    "for depth in range(1, 11):\n",
    "    model =  RandomForestClassifier(n_estimators=200,max_depth = depth, random_state=1)\n",
    "    model.fit(X_train, y_train)\n",
    "    \n",
    "    prediction_test = model.predict(X_test)\n",
    "    accuracy_test = metrics.accuracy_score(y_test, prediction_test)\n",
    "    scores_test[depth] = accuracy_test\n",
    "    \n",
    "    prediction_train = model.predict(X_train)\n",
    "    accuracy_train = metrics.accuracy_score(y_train, prediction_train)\n",
    "    scores_train[depth] = accuracy_train\n",
    "    \n",
    "Series(scores_train).sort_index().plot()\n",
    "xlabel('Depth of trees in ensemble')\n",
    "ylabel('Test accuracy')\n",
    "\n",
    "Series(scores_test).sort_index().plot()\n",
    "xlabel('Depth of trees in ensemble')\n",
    "ylabel('Test accuracy')\n",
    "\n",
    "title('Random Forest Depth')"
   ]
  },
  {
   "cell_type": "code",
   "execution_count": 72,
   "metadata": {},
   "outputs": [
    {
     "data": {
      "text/plain": [
       "Text(0.5, 1.0, 'Random Forest Num Tree')"
      ]
     },
     "execution_count": 72,
     "metadata": {},
     "output_type": "execute_result"
    },
    {
     "data": {
      "image/png": "[encoded data removed]",
      "text/plain": [
       "<Figure size 432x288 with 1 Axes>"
      ]
     },
     "metadata": {
      "needs_background": "light"
     },
     "output_type": "display_data"
    }
   ],
   "source": [
    "scores = {}\n",
    "for num_trees in [50, 100, 200, 300, 400]:\n",
    "    model = RandomForestClassifier(n_estimators=num_trees,max_depth = depth, random_state=1)\n",
    "    model.fit(X_train, y_train)\n",
    "    prediction_test = model.predict(X_test)\n",
    "    accuracy_test = metrics.accuracy_score(y_test, prediction_test)\n",
    "    scores[num_trees] = accuracy_test\n",
    "Series(scores).sort_index().plot()\n",
    "xlabel('Number of trees in ensemble')\n",
    "ylabel('Test accuracy')\n",
    "\n",
    "title('Random Forest Num Tree')"
   ]
  },
  {
   "cell_type": "markdown",
   "metadata": {},
   "source": [
    "# G"
   ]
  },
  {
   "cell_type": "code",
   "execution_count": 73,
   "metadata": {},
   "outputs": [
    {
     "data": {
      "text/plain": [
       "Text(0.5, 1.0, 'Boosting Depth')"
      ]
     },
     "execution_count": 73,
     "metadata": {},
     "output_type": "execute_result"
    },
    {
     "data": {
      "image/png": "[encoded data removed]",
      "text/plain": [
       "<Figure size 432x288 with 1 Axes>"
      ]
     },
     "metadata": {
      "needs_background": "light"
     },
     "output_type": "display_data"
    }
   ],
   "source": [
    "scores_train = {}\n",
    "scores_test = {}\n",
    "for depth in range(1, 5):\n",
    "    model =  GradientBoostingClassifier(n_estimators=200, max_depth=depth, random_state=1)\n",
    "    model.fit(X_train, y_train)\n",
    "    \n",
    "    prediction_test = model.predict(X_test)\n",
    "    accuracy_test = metrics.accuracy_score(y_test, prediction_test)\n",
    "    scores_test[depth] = accuracy_test\n",
    "    \n",
    "    prediction_train = model.predict(X_train)\n",
    "    accuracy_train = metrics.accuracy_score(y_train, prediction_train)\n",
    "    scores_train[depth] = accuracy_train\n",
    "    \n",
    "Series(scores_train).sort_index().plot()\n",
    "xlabel('Depth of trees in ensemble')\n",
    "ylabel('Test accuracy')\n",
    "\n",
    "Series(scores_test).sort_index().plot()\n",
    "xlabel('Depth of trees in ensemble')\n",
    "ylabel('Test accuracy')\n",
    "\n",
    "title('Boosting Depth')"
   ]
  },
  {
   "cell_type": "code",
   "execution_count": 74,
   "metadata": {},
   "outputs": [
    {
     "data": {
      "text/plain": [
       "Text(0.5, 1.0, 'Boosting Num Tree')"
      ]
     },
     "execution_count": 74,
     "metadata": {},
     "output_type": "execute_result"
    },
    {
     "data": {
      "image/png": "[encoded data removed]",
      "text/plain": [
       "<Figure size 432x288 with 1 Axes>"
      ]
     },
     "metadata": {
      "needs_background": "light"
     },
     "output_type": "display_data"
    }
   ],
   "source": [
    "scores = {}\n",
    "for num_trees in [50, 100, 200, 300, 400]:\n",
    "    model = GradientBoostingClassifier(n_estimators=num_trees, max_depth=2, random_state=1)\n",
    "    model.fit(X_train, y_train)\n",
    "    prediction_test = model.predict(X_test)\n",
    "    accuracy_test = metrics.accuracy_score(y_test, prediction_test)\n",
    "    scores[num_trees] = accuracy_test\n",
    "Series(scores).sort_index().plot()\n",
    "xlabel('Number of trees in ensemble')\n",
    "ylabel('Test accuracy')\n",
    "\n",
    "\n",
    "title('Boosting Num Tree')"
   ]
  },
  {
   "cell_type": "code",
   "execution_count": 75,
   "metadata": {},
   "outputs": [],
   "source": [
    "#All the models we want to test out, in one list.\n",
    "model_decision = tree.DecisionTreeClassifier(criterion='entropy' ,max_depth = 5)\n",
    "model_bagging = BaggingClassifier(tree.DecisionTreeClassifier(criterion='entropy',max_depth = 2), random_state=1)\n",
    "model_rf = RandomForestClassifier(n_estimators=210, max_depth = 5, random_state=1)\n",
    "model_g =  GradientBoostingClassifier(n_estimators=120, max_depth=1, random_state=1)\n",
    "#for (name, model) in model_list:\n",
    "#    print 'Fitting', name\n",
    "model_decision.fit(X_train, y_train)\n",
    "model_bagging.fit(X_train, y_train)\n",
    "model_rf.fit(X_train, y_train)\n",
    "model_g.fit(X_train, y_train)\n",
    "from sklearn import metrics"
   ]
  },
  {
   "cell_type": "code",
   "execution_count": 76,
   "metadata": {},
   "outputs": [
    {
     "name": "stdout",
     "output_type": "stream",
     "text": [
      "Accuracy for Decision Tree\n",
      "Train: 0.7829643888354186\n",
      "Test: 0.77665544332211\n",
      "\n",
      "Accuracy for Bagging\n",
      "Train: 0.7786333012512031\n",
      "tTest: 0.7822671156004489\n",
      "\n",
      "Accuracy for RF\n",
      "Train: 0.7925890279114534\n",
      "Test: 0.7878787878787878\n",
      "Accuracy for Boosting\n",
      "Train: 0.7937921077959577\n",
      "Test: 0.7749719416386083\n"
     ]
    },
    {
     "data": {
      "text/plain": [
       "Text(0.5, 0, '')"
      ]
     },
     "execution_count": 76,
     "metadata": {},
     "output_type": "execute_result"
    },
    {
     "data": {
      "image/png": "[encoded data removed]",
      "text/plain": [
       "<Figure size 432x288 with 1 Axes>"
      ]
     },
     "metadata": {
      "needs_background": "light"
     },
     "output_type": "display_data"
    }
   ],
   "source": [
    "# model_decision\n",
    "prediction_train = model_decision.predict(X_train)\n",
    "accuracy_train_1 = metrics.accuracy_score(y_train, prediction_train)\n",
    "prediction_test = model_decision.predict(X_test)\n",
    "accuracy_test_1 = metrics.accuracy_score(y_test, prediction_test)\n",
    "print ('Accuracy for Decision Tree')\n",
    "print ('Train:',accuracy_train_1)\n",
    "print ('Test:',accuracy_test_1)\n",
    "print()\n",
    "# model_bagging\n",
    "prediction_train = model_bagging.predict(X_train)\n",
    "accuracy_train_2 = metrics.accuracy_score(y_train, prediction_train)\n",
    "prediction_test = model_bagging.predict(X_test)\n",
    "accuracy_test_2 = metrics.accuracy_score(y_test, prediction_test)\n",
    "print ('Accuracy for Bagging')\n",
    "\n",
    "print ('Train:',accuracy_train_2)\n",
    "print ('tTest:',accuracy_test_2)\n",
    "print()\n",
    "\n",
    "# model_rf\n",
    "prediction_train = model_rf.predict(X_train)\n",
    "accuracy_train_3 = metrics.accuracy_score(y_train, prediction_train)\n",
    "prediction_test = model_rf.predict(X_test)\n",
    "accuracy_test_3 = metrics.accuracy_score(y_test, prediction_test)\n",
    "print ('Accuracy for RF')\n",
    "\n",
    "print ('Train:',accuracy_train_3)\n",
    "print ('Test:',accuracy_test_3)\n",
    "print\n",
    "# model_g\n",
    "prediction_train = model_g.predict(X_train)\n",
    "accuracy_train_4 = metrics.accuracy_score(y_train, prediction_train)\n",
    "prediction_test = model_g.predict(X_test)\n",
    "accuracy_test_4 = metrics.accuracy_score(y_test, prediction_test)\n",
    "print ('Accuracy for Boosting')\n",
    "\n",
    "print ('Train:',accuracy_train_4)\n",
    "print ('Test:',accuracy_test_4)\n",
    "\n",
    "Baseline_accuracy = 0.60\n",
    "Baseline_accuracy2 = 0.60\n",
    "\n",
    "train= [accuracy_train_1, accuracy_train_2,accuracy_train_4,accuracy_train_3,Baseline_accuracy]\n",
    "test = [accuracy_test_1, accuracy_test_2, accuracy_test_4,accuracy_test_3,Baseline_accuracy2]\n",
    "index = ['Decision Tree', 'Bagging', 'Boosting','Random Forest','Baseline']\n",
    "df_123 = pd.DataFrame({'train accuracy': train,'test accuracy': test}, index=index)\n",
    "ax = df_123.plot.bar(rot=0).set_ylim(0.0,0.80)\n",
    "\n",
    "title('Tree Models vs Accuracy')\n",
    "ylabel('')\n",
    "xlabel('')"
   ]
  },
  {
   "cell_type": "code",
   "execution_count": 77,
   "metadata": {},
   "outputs": [
    {
     "data": {
      "text/plain": [
       "0.7829643888354186"
      ]
     },
     "execution_count": 77,
     "metadata": {},
     "output_type": "execute_result"
    }
   ],
   "source": [
    "accuracy_train_1"
   ]
  },
  {
   "cell_type": "code",
   "execution_count": 78,
   "metadata": {},
   "outputs": [],
   "source": [
    "import pandas as pd\n",
    "\n",
    "# Create Series for coef\n",
    "thelist = [ ['host_is_superhost'], ['host_verifications'], ['host_has_profile_pic'],[\"host_identity_verified\"],[\"is_location_exact\"],[\"accommodates\"],[\"bathrooms\"],[\"bedrooms\"],[\"beds\"],[\"amenities\"],[\"number_of_reviews\"],[\"review_scores_rating\"],[\"instant_bookable\"],[\"cancellation_policyL1\"],[\"cancellation_policyL2\"],[\"cancellation_policyL3\"],[\"cancellation_policyL4\"]]\n",
    "df_2 = pd.Series( (v[0] for v in thelist) )"
   ]
  },
  {
   "cell_type": "code",
   "execution_count": 79,
   "metadata": {},
   "outputs": [
    {
     "data": {
      "text/plain": [
       "review_scores_rating      0.727212\n",
       "number_of_reviews         0.112995\n",
       "cancellation_policyL2     0.072670\n",
       "amenities                 0.049803\n",
       "cancellation_policyL3     0.016301\n",
       "is_location_exact         0.011596\n",
       "beds                      0.003280\n",
       "bedrooms                  0.002566\n",
       "accommodates              0.001812\n",
       "cancellation_policyL1     0.001765\n",
       "host_identity_verified    0.000000\n",
       "host_verifications        0.000000\n",
       "host_has_profile_pic      0.000000\n",
       "cancellation_policyL4     0.000000\n",
       "bathrooms                 0.000000\n",
       "instant_bookable          0.000000\n",
       "host_is_superhost         0.000000\n",
       "dtype: float64"
      ]
     },
     "execution_count": 79,
     "metadata": {},
     "output_type": "execute_result"
    }
   ],
   "source": [
    "# Decision Tree Coef\n",
    "feature_imp = pd.Series(model_decision.feature_importances_,index=df_2).sort_values(ascending=False)\n",
    "feature_imp"
   ]
  },
  {
   "cell_type": "code",
   "execution_count": 81,
   "metadata": {},
   "outputs": [
    {
     "name": "stderr",
     "output_type": "stream",
     "text": [
      "No handles with labels found to put in legend.\n"
     ]
    },
    {
     "name": "stdout",
     "output_type": "stream",
     "text": [
      "review_scores_rating      0.282740\n",
      "number_of_reviews         0.261209\n",
      "amenities                 0.205185\n",
      "instant_bookable          0.136570\n",
      "cancellation_policyL2     0.039450\n",
      "host_has_profile_pic      0.024228\n",
      "cancellation_policyL3     0.014436\n",
      "host_is_superhost         0.007105\n",
      "cancellation_policyL1     0.006904\n",
      "is_location_exact         0.006516\n",
      "accommodates              0.004937\n",
      "host_verifications        0.004493\n",
      "cancellation_policyL4     0.003031\n",
      "beds                      0.001731\n",
      "bedrooms                  0.000989\n",
      "host_identity_verified    0.000347\n",
      "bathrooms                 0.000129\n",
      "dtype: float64\n"
     ]
    },
    {
     "data": {
      "image/png": "[encoded data removed]",
      "text/plain": [
       "<Figure size 432x288 with 1 Axes>"
      ]
     },
     "metadata": {
      "needs_background": "light"
     },
     "output_type": "display_data"
    }
   ],
   "source": [
    "# tf coef\n",
    "feature_imp = pd.Series(model_rf.feature_importances_,index=df_2).sort_values(ascending=False)\n",
    "print (feature_imp)\n",
    "import matplotlib.pyplot as plt\n",
    "import seaborn as sns\n",
    "%matplotlib inline\n",
    "# Creating a bar plot\n",
    "sns.barplot(x=feature_imp, y=feature_imp.index)\n",
    "# Add labels to your graph\n",
    "plt.xlabel('Feature Importance Score')\n",
    "plt.ylabel('Features')\n",
    "plt.title(\"Visualizing Important Features\")\n",
    "plt.legend()\n",
    "plt.show()"
   ]
  },
  {
   "cell_type": "code",
   "execution_count": 82,
   "metadata": {},
   "outputs": [
    {
     "name": "stdout",
     "output_type": "stream",
     "text": [
      "Populating the interactive namespace from numpy and matplotlib\n"
     ]
    }
   ],
   "source": [
    "import pandas as pd\n",
    "import matplotlib.pyplot as plt\n",
    "import seaborn as sns\n",
    "%pylab inline\n",
    "list3 = [['Train Accuracy',0.872],['Test Accuracy',0.878],['Baseline Accuracy',0.794]]\n",
    "df5 = pd.DataFrame(list3)\n",
    "df5 = df5.rename(columns={0: \"Dataset\", 1: \"Accuracy\"})"
   ]
  },
  {
   "cell_type": "code",
   "execution_count": 83,
   "metadata": {},
   "outputs": [
    {
     "data": {
      "text/plain": [
       "Text(0.5, 1.0, 'Accuracy Chart')"
      ]
     },
     "execution_count": 83,
     "metadata": {},
     "output_type": "execute_result"
    },
    {
     "data": {
      "image/png": "[encoded data removed]",
      "text/plain": [
       "<Figure size 432x288 with 1 Axes>"
      ]
     },
     "metadata": {
      "needs_background": "light"
     },
     "output_type": "display_data"
    }
   ],
   "source": [
    "df5.set_index('Dataset').plot(kind='bar',rot=0)\n",
    "ylabel('Accuracy')\n",
    "title('Accuracy Chart')"
   ]
  },
  {
   "cell_type": "code",
   "execution_count": null,
   "metadata": {},
   "outputs": [],
   "source": []
  }
 ],
 "metadata": {
  "kernelspec": {
   "display_name": "Python 3",
   "language": "python",
   "name": "python3"
  },
  "language_info": {
   "codemirror_mode": {
    "name": "ipython",
    "version": 3
   },
   "file_extension": ".py",
   "mimetype": "text/x-python",
   "name": "python",
   "nbconvert_exporter": "python",
   "pygments_lexer": "ipython3",
   "version": "3.7.4"
  }
 },
 "nbformat": 4,
 "nbformat_minor": 2
}
